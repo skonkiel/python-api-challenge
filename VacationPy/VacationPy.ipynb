{
 "cells": [
  {
   "cell_type": "code",
   "execution_count": 1,
   "metadata": {},
   "outputs": [],
   "source": [
    "from config import gapi_key\n",
    "import csv\n",
    "import pandas as pd\n",
    "import os\n",
    "import requests\n",
    "import gmaps"
   ]
  },
  {
   "cell_type": "code",
   "execution_count": 2,
   "metadata": {},
   "outputs": [],
   "source": [
    "# Read in data from previous analysis\n",
    "path = os.path.join('..', 'WeatherPy', 'weather.csv')\n",
    "\n",
    "weather = pd.read_csv(path)"
   ]
  },
  {
   "cell_type": "markdown",
   "metadata": {},
   "source": [
    "## Create a Heat Map\n",
    "Create a heat map that displays the humidity for every city from the part I of the homework."
   ]
  },
  {
   "cell_type": "code",
   "execution_count": 3,
   "metadata": {},
   "outputs": [],
   "source": [
    "gmaps.configure(api_key=gapi_key)"
   ]
  },
  {
   "cell_type": "code",
   "execution_count": 4,
   "metadata": {},
   "outputs": [],
   "source": [
    "locations = weather[[\"City Latitude\", \"City Longitude\"]].astype(float)\n",
    "humidity = weather[\"Humidity (%)\"]"
   ]
  },
  {
   "cell_type": "code",
   "execution_count": 5,
   "metadata": {},
   "outputs": [
    {
     "data": {
      "application/vnd.jupyter.widget-view+json": {
       "model_id": "972b8a58b53b435ab16e7dfdb7217355",
       "version_major": 2,
       "version_minor": 0
      },
      "text/plain": [
       "Figure(layout=FigureLayout(height='420px'))"
      ]
     },
     "metadata": {},
     "output_type": "display_data"
    }
   ],
   "source": [
    "fig = gmaps.figure()\n",
    "\n",
    "heat_layer = gmaps.heatmap_layer(locations, weights=humidity, \n",
    "                                 dissipating=False, max_intensity=100,\n",
    "                                 point_radius = 2)\n",
    "\n",
    "fig.add_layer(heat_layer)\n",
    "\n",
    "fig"
   ]
  },
  {
   "cell_type": "markdown",
   "metadata": {},
   "source": [
    "## Find ideal places to vacation"
   ]
  },
  {
   "cell_type": "code",
   "execution_count": 6,
   "metadata": {},
   "outputs": [],
   "source": [
    "# Narrow down the DataFrame to find ideal weather conditions\n",
    "\n",
    "temp = weather['Temperature (F)']\n",
    "humid = weather['Humidity (%)']\n",
    "clouds = weather['Cloudiness (%)']\n",
    "wind = weather['Wind Speed (mph)']\n",
    "\n",
    "ideal = weather[(temp <= 90) & (temp >= 70) & (humid <= 50) & (clouds <= 25) & (wind <= 15)]"
   ]
  },
  {
   "cell_type": "code",
   "execution_count": 7,
   "metadata": {},
   "outputs": [],
   "source": [
    "import requests\n",
    "import json"
   ]
  },
  {
   "cell_type": "markdown",
   "metadata": {},
   "source": [
    "### Get hotel"
   ]
  },
  {
   "cell_type": "code",
   "execution_count": 8,
   "metadata": {},
   "outputs": [],
   "source": [
    "\n",
    "# Using Google Places API to find the first hotel for each city located within 5000 meters of your coordinates.\n",
    "\n",
    "# For each row in ideal df, find the first hotel that appears in Google Places search\n",
    "\n",
    "hotels_info = []\n",
    "\n",
    "for index, row in ideal.iterrows():\n",
    "    \n",
    "    h_info = {}\n",
    "    \n",
    "    lat = ideal.loc[index, 'City Latitude']\n",
    "    lng = ideal.loc[index, 'City Longitude']\n",
    "    city = ideal.loc[index, 'City'].title()\n",
    "    country = ideal.loc[index, 'Country'].upper()\n",
    "    coordinates = f\"{lat}, {lng}\"\n",
    "\n",
    "    # set up search variables\n",
    "    target_coordinates = coordinates\n",
    "    target_radius = 5000\n",
    "    target_type = \"lodging\"\n",
    "\n",
    "    # declare the variables in the parameters dictionary\n",
    "    params = {\n",
    "        \"location\": target_coordinates,\n",
    "        \"radius\": target_radius,\n",
    "        \"type\": target_type,\n",
    "        \"key\": gapi_key,\n",
    "    } \n",
    "\n",
    "    # base url\n",
    "    base_url = \"https://maps.googleapis.com/maps/api/place/nearbysearch/json\"\n",
    "\n",
    "    # Run the request\n",
    "    response = requests.get(base_url, params=params)\n",
    "    r = response.json()\n",
    "    try:\n",
    "        # print(r['results'][0])\n",
    "        name = r['results'][0]['name']\n",
    "        h_info = {\n",
    "            'name': name,\n",
    "            \"city\": city,\n",
    "            \"country\": country,\n",
    "            'location': (lat, lng) \n",
    "        }\n",
    "        hotels_info.append(h_info)\n",
    "    except:       \n",
    "        # print(coordinates)\n",
    "        continue\n",
    "\n",
    "# print(hotels_info)"
   ]
  },
  {
   "cell_type": "code",
   "execution_count": 9,
   "metadata": {},
   "outputs": [
    {
     "data": {
      "application/vnd.jupyter.widget-view+json": {
       "model_id": "290933a29e6c4d379b668c2723f66d29",
       "version_major": 2,
       "version_minor": 0
      },
      "text/plain": [
       "Figure(layout=FigureLayout(height='420px'))"
      ]
     },
     "metadata": {},
     "output_type": "display_data"
    }
   ],
   "source": [
    "hotel_locations = [hotel['location'] for hotel in hotels_info]\n",
    "info_box_template = \"\"\"\n",
    "<dl>\n",
    "<dt>Name</dt><dd>{name}</dd>\n",
    "<dt>City</dt><dd>{city}</dd>\n",
    "<dt>Country</dt><dd>{country}</dd>\n",
    "</dl>\n",
    "\"\"\"\n",
    "pop_ups = [info_box_template.format(**hotel) for hotel in hotels_info]\n",
    "\n",
    "marker_layer = gmaps.marker_layer(hotel_locations, info_box_content=pop_ups)\n",
    "heat_layer = gmaps.heatmap_layer(locations, weights=humidity, \n",
    "                                 dissipating=False, max_intensity=100,\n",
    "                                 point_radius = 2)\n",
    "\n",
    "fig = gmaps.figure()\n",
    "fig.add_layer(marker_layer)\n",
    "fig.add_layer(heat_layer)\n",
    "fig"
   ]
  }
 ],
 "metadata": {
  "kernelspec": {
   "display_name": "Python 3",
   "language": "python",
   "name": "python3"
  },
  "language_info": {
   "codemirror_mode": {
    "name": "ipython",
    "version": 3
   },
   "file_extension": ".py",
   "mimetype": "text/x-python",
   "name": "python",
   "nbconvert_exporter": "python",
   "pygments_lexer": "ipython3",
   "version": "3.6.10"
  }
 },
 "nbformat": 4,
 "nbformat_minor": 4
}
