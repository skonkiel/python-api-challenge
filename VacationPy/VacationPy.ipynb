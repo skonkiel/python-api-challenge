{
 "cells": [
  {
   "cell_type": "code",
   "execution_count": 1,
   "metadata": {},
   "outputs": [],
   "source": [
    "from config import gapi_key\n",
    "import csv\n",
    "import pandas as pd\n",
    "import os\n",
    "import requests\n",
    "import gmaps"
   ]
  },
  {
   "cell_type": "code",
   "execution_count": 2,
   "metadata": {},
   "outputs": [
    {
     "data": {
      "text/html": [
       "<div>\n",
       "<style scoped>\n",
       "    .dataframe tbody tr th:only-of-type {\n",
       "        vertical-align: middle;\n",
       "    }\n",
       "\n",
       "    .dataframe tbody tr th {\n",
       "        vertical-align: top;\n",
       "    }\n",
       "\n",
       "    .dataframe thead th {\n",
       "        text-align: right;\n",
       "    }\n",
       "</style>\n",
       "<table border=\"1\" class=\"dataframe\">\n",
       "  <thead>\n",
       "    <tr style=\"text-align: right;\">\n",
       "      <th></th>\n",
       "      <th>Latitude</th>\n",
       "      <th>Longitude</th>\n",
       "      <th>City</th>\n",
       "      <th>Country</th>\n",
       "      <th>City Latitude</th>\n",
       "      <th>City Longitude</th>\n",
       "      <th>Temperature (F)</th>\n",
       "      <th>Humidity (%)</th>\n",
       "      <th>Cloudiness (%)</th>\n",
       "      <th>Wind Speed (mph)</th>\n",
       "    </tr>\n",
       "  </thead>\n",
       "  <tbody>\n",
       "    <tr>\n",
       "      <th>0</th>\n",
       "      <td>-39.795553</td>\n",
       "      <td>-19.552937</td>\n",
       "      <td>jamestown</td>\n",
       "      <td>sh</td>\n",
       "      <td>-15.928634</td>\n",
       "      <td>-5.715175</td>\n",
       "      <td>73.89</td>\n",
       "      <td>73.0</td>\n",
       "      <td>58.0</td>\n",
       "      <td>10.18</td>\n",
       "    </tr>\n",
       "    <tr>\n",
       "      <th>1</th>\n",
       "      <td>-45.067772</td>\n",
       "      <td>34.285471</td>\n",
       "      <td>east london</td>\n",
       "      <td>za</td>\n",
       "      <td>-33.029158</td>\n",
       "      <td>27.854587</td>\n",
       "      <td>68.25</td>\n",
       "      <td>78.0</td>\n",
       "      <td>61.0</td>\n",
       "      <td>13.00</td>\n",
       "    </tr>\n",
       "    <tr>\n",
       "      <th>2</th>\n",
       "      <td>-61.761127</td>\n",
       "      <td>153.425467</td>\n",
       "      <td>hobart</td>\n",
       "      <td>au</td>\n",
       "      <td>-42.882138</td>\n",
       "      <td>147.327195</td>\n",
       "      <td>61.52</td>\n",
       "      <td>51.0</td>\n",
       "      <td>75.0</td>\n",
       "      <td>10.29</td>\n",
       "    </tr>\n",
       "    <tr>\n",
       "      <th>3</th>\n",
       "      <td>-30.664775</td>\n",
       "      <td>-60.061016</td>\n",
       "      <td>santa fe</td>\n",
       "      <td>ar</td>\n",
       "      <td>-31.610658</td>\n",
       "      <td>-60.697294</td>\n",
       "      <td>84.02</td>\n",
       "      <td>48.0</td>\n",
       "      <td>0.0</td>\n",
       "      <td>4.00</td>\n",
       "    </tr>\n",
       "    <tr>\n",
       "      <th>4</th>\n",
       "      <td>-65.803764</td>\n",
       "      <td>-74.911011</td>\n",
       "      <td>ushuaia</td>\n",
       "      <td>ar</td>\n",
       "      <td>-54.801912</td>\n",
       "      <td>-68.302951</td>\n",
       "      <td>50.00</td>\n",
       "      <td>71.0</td>\n",
       "      <td>75.0</td>\n",
       "      <td>11.41</td>\n",
       "    </tr>\n",
       "  </tbody>\n",
       "</table>\n",
       "</div>"
      ],
      "text/plain": [
       "    Latitude   Longitude         City Country  City Latitude  City Longitude  \\\n",
       "0 -39.795553  -19.552937    jamestown      sh     -15.928634       -5.715175   \n",
       "1 -45.067772   34.285471  east london      za     -33.029158       27.854587   \n",
       "2 -61.761127  153.425467       hobart      au     -42.882138      147.327195   \n",
       "3 -30.664775  -60.061016     santa fe      ar     -31.610658      -60.697294   \n",
       "4 -65.803764  -74.911011      ushuaia      ar     -54.801912      -68.302951   \n",
       "\n",
       "   Temperature (F)  Humidity (%)  Cloudiness (%)  Wind Speed (mph)  \n",
       "0            73.89          73.0            58.0             10.18  \n",
       "1            68.25          78.0            61.0             13.00  \n",
       "2            61.52          51.0            75.0             10.29  \n",
       "3            84.02          48.0             0.0              4.00  \n",
       "4            50.00          71.0            75.0             11.41  "
      ]
     },
     "execution_count": 2,
     "metadata": {},
     "output_type": "execute_result"
    }
   ],
   "source": [
    "# Read in data from previous analysis\n",
    "path = os.path.join('.', 'weather.csv')\n",
    "\n",
    "weather = pd.read_csv(path)\n",
    "\n",
    "weather.head()"
   ]
  },
  {
   "cell_type": "markdown",
   "metadata": {},
   "source": [
    "## Create a Heat Map\n",
    "Create a heat map that displays the humidity for every city from the part I of the homework."
   ]
  },
  {
   "cell_type": "code",
   "execution_count": 3,
   "metadata": {},
   "outputs": [],
   "source": [
    "gmaps.configure(api_key=gapi_key)"
   ]
  },
  {
   "cell_type": "code",
   "execution_count": 8,
   "metadata": {},
   "outputs": [],
   "source": [
    "locations = weather[[\"City Latitude\", \"City Longitude\"]].astype(float)\n",
    "humidity = weather[\"Humidity (%)\"]"
   ]
  },
  {
   "cell_type": "code",
   "execution_count": 12,
   "metadata": {},
   "outputs": [
    {
     "data": {
      "application/vnd.jupyter.widget-view+json": {
       "model_id": "5e3df59c92d84db1ac1558c2cdd4abe6",
       "version_major": 2,
       "version_minor": 0
      },
      "text/plain": [
       "Figure(layout=FigureLayout(height='420px'))"
      ]
     },
     "metadata": {},
     "output_type": "display_data"
    }
   ],
   "source": [
    "fig = gmaps.figure()\n",
    "\n",
    "heat_layer = gmaps.heatmap_layer(locations, weights=humidity, \n",
    "                                 dissipating=False, max_intensity=100,\n",
    "                                 point_radius = 2)\n",
    "\n",
    "fig.add_layer(heat_layer)\n",
    "\n",
    "fig"
   ]
  },
  {
   "cell_type": "markdown",
   "metadata": {},
   "source": [
    "## Find ideal places to vacation"
   ]
  },
  {
   "cell_type": "code",
   "execution_count": 13,
   "metadata": {},
   "outputs": [
    {
     "data": {
      "text/html": [
       "<div>\n",
       "<style scoped>\n",
       "    .dataframe tbody tr th:only-of-type {\n",
       "        vertical-align: middle;\n",
       "    }\n",
       "\n",
       "    .dataframe tbody tr th {\n",
       "        vertical-align: top;\n",
       "    }\n",
       "\n",
       "    .dataframe thead th {\n",
       "        text-align: right;\n",
       "    }\n",
       "</style>\n",
       "<table border=\"1\" class=\"dataframe\">\n",
       "  <thead>\n",
       "    <tr style=\"text-align: right;\">\n",
       "      <th></th>\n",
       "      <th>Latitude</th>\n",
       "      <th>Longitude</th>\n",
       "      <th>City</th>\n",
       "      <th>Country</th>\n",
       "      <th>City Latitude</th>\n",
       "      <th>City Longitude</th>\n",
       "      <th>Temperature (F)</th>\n",
       "      <th>Humidity (%)</th>\n",
       "      <th>Cloudiness (%)</th>\n",
       "      <th>Wind Speed (mph)</th>\n",
       "    </tr>\n",
       "  </thead>\n",
       "  <tbody>\n",
       "    <tr>\n",
       "      <th>3</th>\n",
       "      <td>-30.664775</td>\n",
       "      <td>-60.061016</td>\n",
       "      <td>santa fe</td>\n",
       "      <td>ar</td>\n",
       "      <td>-31.610658</td>\n",
       "      <td>-60.697294</td>\n",
       "      <td>84.02</td>\n",
       "      <td>48.0</td>\n",
       "      <td>0.0</td>\n",
       "      <td>4.00</td>\n",
       "    </tr>\n",
       "    <tr>\n",
       "      <th>182</th>\n",
       "      <td>10.766946</td>\n",
       "      <td>-88.125789</td>\n",
       "      <td>corinto</td>\n",
       "      <td>ni</td>\n",
       "      <td>12.490741</td>\n",
       "      <td>-87.178433</td>\n",
       "      <td>87.80</td>\n",
       "      <td>48.0</td>\n",
       "      <td>20.0</td>\n",
       "      <td>4.70</td>\n",
       "    </tr>\n",
       "    <tr>\n",
       "      <th>329</th>\n",
       "      <td>12.091814</td>\n",
       "      <td>-102.824314</td>\n",
       "      <td>san jeronimo</td>\n",
       "      <td>mx</td>\n",
       "      <td>31.713671</td>\n",
       "      <td>-106.413351</td>\n",
       "      <td>75.54</td>\n",
       "      <td>40.0</td>\n",
       "      <td>0.0</td>\n",
       "      <td>1.99</td>\n",
       "    </tr>\n",
       "    <tr>\n",
       "      <th>459</th>\n",
       "      <td>24.314128</td>\n",
       "      <td>-94.495701</td>\n",
       "      <td>matamoros</td>\n",
       "      <td>mx</td>\n",
       "      <td>25.869029</td>\n",
       "      <td>-97.502738</td>\n",
       "      <td>71.62</td>\n",
       "      <td>25.0</td>\n",
       "      <td>5.0</td>\n",
       "      <td>5.21</td>\n",
       "    </tr>\n",
       "    <tr>\n",
       "      <th>510</th>\n",
       "      <td>-37.220289</td>\n",
       "      <td>-63.258913</td>\n",
       "      <td>santa rosa</td>\n",
       "      <td>ar</td>\n",
       "      <td>-36.620922</td>\n",
       "      <td>-64.291237</td>\n",
       "      <td>87.53</td>\n",
       "      <td>26.0</td>\n",
       "      <td>1.0</td>\n",
       "      <td>6.17</td>\n",
       "    </tr>\n",
       "  </tbody>\n",
       "</table>\n",
       "</div>"
      ],
      "text/plain": [
       "      Latitude   Longitude          City Country  City Latitude  \\\n",
       "3   -30.664775  -60.061016      santa fe      ar     -31.610658   \n",
       "182  10.766946  -88.125789       corinto      ni      12.490741   \n",
       "329  12.091814 -102.824314  san jeronimo      mx      31.713671   \n",
       "459  24.314128  -94.495701     matamoros      mx      25.869029   \n",
       "510 -37.220289  -63.258913    santa rosa      ar     -36.620922   \n",
       "\n",
       "     City Longitude  Temperature (F)  Humidity (%)  Cloudiness (%)  \\\n",
       "3        -60.697294            84.02          48.0             0.0   \n",
       "182      -87.178433            87.80          48.0            20.0   \n",
       "329     -106.413351            75.54          40.0             0.0   \n",
       "459      -97.502738            71.62          25.0             5.0   \n",
       "510      -64.291237            87.53          26.0             1.0   \n",
       "\n",
       "     Wind Speed (mph)  \n",
       "3                4.00  \n",
       "182              4.70  \n",
       "329              1.99  \n",
       "459              5.21  \n",
       "510              6.17  "
      ]
     },
     "execution_count": 13,
     "metadata": {},
     "output_type": "execute_result"
    }
   ],
   "source": [
    "# Narrow down the DataFrame to find ideal weather conditions\n",
    "\n",
    "temp = weather['Temperature (F)']\n",
    "humid = weather['Humidity (%)']\n",
    "clouds = weather['Cloudiness (%)']\n",
    "wind = weather['Wind Speed (mph)']\n",
    "\n",
    "ideal = weather[(temp <= 90) & (temp >= 70) & (humid <= 50) & (clouds <= 25) & (wind <= 15)]\n",
    "ideal"
   ]
  },
  {
   "cell_type": "code",
   "execution_count": 14,
   "metadata": {},
   "outputs": [],
   "source": [
    "import requests\n",
    "import json"
   ]
  },
  {
   "cell_type": "markdown",
   "metadata": {},
   "source": [
    "### Get hotel"
   ]
  },
  {
   "cell_type": "code",
   "execution_count": 24,
   "metadata": {},
   "outputs": [
    {
     "name": "stdout",
     "output_type": "stream",
     "text": [
      "[{'name': 'Conquistador Hotel', 'city': 'Santa Fe', 'country': 'AR', 'location': (-31.6106578, -60.69729399999999)}, {'name': 'Hostal García', 'city': 'Corinto', 'country': 'NI', 'location': (12.490741400000001, -87.1784334)}, {'name': 'Hotel Mesaluna', 'city': 'San Jeronimo', 'country': 'MX', 'location': (31.713671, -106.4133507)}, {'name': 'Hotel Alameda Express', 'city': 'Matamoros', 'country': 'MX', 'location': (25.8690294, -97.5027376)}, {'name': 'Hotel Calfucurá', 'city': 'Santa Rosa', 'country': 'AR', 'location': (-36.620922, -64.2912369)}]\n"
     ]
    }
   ],
   "source": [
    "\n",
    "# Using Google Places API to find the first hotel for each city located within 5000 meters of your coordinates.\n",
    "\n",
    "# For each row in ideal df, find the first hotel that appears in Google Places search\n",
    "\n",
    "hotels_info = []\n",
    "\n",
    "for index, row in ideal.iterrows():\n",
    "    \n",
    "    h_info = {}\n",
    "    \n",
    "    lat = ideal.loc[index, 'City Latitude']\n",
    "    lng = ideal.loc[index, 'City Longitude']\n",
    "    city = ideal.loc[index, 'City'].title()\n",
    "    country = ideal.loc[index, 'Country'].upper()\n",
    "    coordinates = f\"{lat}, {lng}\"\n",
    "\n",
    "    # set up search variables\n",
    "    target_coordinates = coordinates\n",
    "    target_radius = 5000\n",
    "    target_type = \"lodging\"\n",
    "\n",
    "    # declare the variables in the parameters dictionary\n",
    "    params = {\n",
    "        \"location\": target_coordinates,\n",
    "        \"radius\": target_radius,\n",
    "        \"type\": target_type,\n",
    "        \"key\": gapi_key,\n",
    "    } \n",
    "\n",
    "    # base url\n",
    "    base_url = \"https://maps.googleapis.com/maps/api/place/nearbysearch/json\"\n",
    "\n",
    "    # Run the request\n",
    "    response = requests.get(base_url, params=params)\n",
    "    r = response.json()\n",
    "    try:\n",
    "        # print(r['results'][0])\n",
    "        name = r['results'][0]['name']\n",
    "        h_info = {\n",
    "            'name': name,\n",
    "            \"city\": city,\n",
    "            \"country\": country,\n",
    "            'location': (lat, lng) \n",
    "        }\n",
    "        hotels_info.append(h_info)\n",
    "    except:       \n",
    "        print(coordinates)\n",
    "        continue\n",
    "\n",
    "print(hotels_info)"
   ]
  },
  {
   "cell_type": "code",
   "execution_count": 25,
   "metadata": {},
   "outputs": [
    {
     "data": {
      "application/vnd.jupyter.widget-view+json": {
       "model_id": "1bc609c260f64717816e7c51568a890d",
       "version_major": 2,
       "version_minor": 0
      },
      "text/plain": [
       "Figure(layout=FigureLayout(height='420px'))"
      ]
     },
     "metadata": {},
     "output_type": "display_data"
    }
   ],
   "source": [
    "hotel_locations = [hotel['location'] for hotel in hotels_info]\n",
    "info_box_template = \"\"\"\n",
    "<dl>\n",
    "<dt>Name</dt><dd>{name}</dd>\n",
    "<dt>City</dt><dd>{city}</dd>\n",
    "<dt>Country</dt><dd>{country}</dd>\n",
    "</dl>\n",
    "\"\"\"\n",
    "pop_ups = [info_box_template.format(**hotel) for hotel in hotels_info]\n",
    "\n",
    "marker_layer = gmaps.marker_layer(hotel_locations, info_box_content=pop_ups)\n",
    "heat_layer = gmaps.heatmap_layer(locations, weights=humidity, \n",
    "                                 dissipating=False, max_intensity=100,\n",
    "                                 point_radius = 2)\n",
    "\n",
    "fig = gmaps.figure()\n",
    "fig.add_layer(marker_layer)\n",
    "fig.add_layer(heat_layer)\n",
    "fig"
   ]
  },
  {
   "cell_type": "code",
   "execution_count": null,
   "metadata": {},
   "outputs": [],
   "source": []
  },
  {
   "cell_type": "code",
   "execution_count": null,
   "metadata": {},
   "outputs": [],
   "source": []
  }
 ],
 "metadata": {
  "kernelspec": {
   "display_name": "Python 3",
   "language": "python",
   "name": "python3"
  },
  "language_info": {
   "codemirror_mode": {
    "name": "ipython",
    "version": 3
   },
   "file_extension": ".py",
   "mimetype": "text/x-python",
   "name": "python",
   "nbconvert_exporter": "python",
   "pygments_lexer": "ipython3",
   "version": "3.6.10"
  }
 },
 "nbformat": 4,
 "nbformat_minor": 4
}
